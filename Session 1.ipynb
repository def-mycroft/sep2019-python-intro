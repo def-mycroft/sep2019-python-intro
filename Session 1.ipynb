{
 "cells": [
  {
   "cell_type": "markdown",
   "metadata": {},
   "source": [
    "# Course Introduction\n",
    "\n",
    "The overarching objective of this course is to provide a fast and hands on introduction to programming in Python. \n",
    "\n",
    "If this course is successful, participants will be able to:\n",
    "\n",
    ">Accomplish basic, practical tasks such as manipulating spreadsheets and interacting with APIs. Also, participants will be able to employ self-directed learning to accomplish more complicated tasks where Python is a good solution.\n",
    "\n",
    "In order to achieve the desired outcome, participants will need to learn the following topics: \n",
    "\n",
    "* Elementary programming concepts\n",
    "    * variables, basic data types, loops, conditionals.\n",
    "    * functions, string formatting, logical and math operators.\n",
    "* Python's data structures and list/dict comprehension.\n",
    "    * lists, tuples, dicts, comprehension.\n",
    "* Working with modules in Python. \n",
    "* Installing the Anaconda distribution of Python and installing modules.\n",
    "* Using Python from the command line.\n",
    "* Fundamentals of Python `pandas`."
   ]
  },
  {
   "cell_type": "markdown",
   "metadata": {},
   "source": [
    "# How to think about Python\n",
    "\n",
    "Programming is often viewed as a mysterious \"dark art\", an art that only geniuses or PhD computer scientists are capable of doing.\n",
    "\n",
    "True expertise is irreplaceable and it takes many years of formal training and experience to really be an expert programmer or computer scientist...\n",
    "\n",
    "...but:\n",
    "1. All programmers were once neophytes, so we're starting from the same point as anyone else.\n",
    "2. There is a lot of value to be had somewhere between \"neophyte\" and \"expert\".\n",
    "\n",
    "So, we're definitely not going to get jobs as software engineers as a result of this course alone, but I'm willing to bet that A) \"doing useful things\" with Python within reach and B) this course will provide valuable experience for further learning."
   ]
  },
  {
   "cell_type": "markdown",
   "metadata": {},
   "source": [
    "# Why Python? \n",
    "\n",
    "I think we're sold on the general idea that writing code is valuable - if we're relegated to only using software tools that someone else has built, then we're reliant upon the developers of the software.\n",
    "\n",
    "If software \"A\" doesn't have feature \"X\", the only thing we can do is hope that someone else has built our feature in another off-the-shelf software. If we can write code, there is a much high chance that we'll be able to accomplish exactly what we need to accomplish. \n",
    "\n"
   ]
  },
  {
   "cell_type": "markdown",
   "metadata": {},
   "source": [
    "But why specifically Python? There are too many different programming languages out there to list, why not learn C, C#, C++, R, Scala, Ruby, Java, Javascript or Julia? \n",
    "\n",
    "Here is what I view as the case for Python specifically: \n",
    "\n",
    ">**Programming languages highly commoditized**. They're all fundamentally the same thing: variables, loops, conditionals and data containers. Once you learn one language, the others come more easily. \n",
    "\n",
    ">**Python is a good first language, easier to learn**. It is relatively simple (e.g. inferred typing), and Python is very, very well organized and well documented. Universities are beginning to teach Python in introductory programming classes because it is a good first language. \n",
    "\n",
    ">**Python has an engaged and supportive community**. Python has been one of the most popular programming languages for several years now, as measured by surveys and other analysis. There are 1.2M+ Python threads on stackoverflow. There are pages and pages of results for a Google query \"learn python\". A lot of programmers really love Python and want to spread and support the language. \n",
    "\n",
    ">**Python has a depth of add-ons, especially scientific/statistical**. There are too many add-ons to list. With Python you have `numpy`, `scipy`, `pandas`, `sklearn` for data analysis and modeling. APIs are increasingly implemented in Python, and oftentimes someone in the open-source community has written a Python wrapper around the API that you want to use. \n",
    "\n",
    ">**The supposed downsides of Python don't matter very much for our purposes**. Python is objectively slower than the C family or Javascript, but development speed is usually more important than execution speed, and in many cases Python is wrapped around faster code like C (e.g. in `pandas`) or Fortran (e.g. in `numpy`). The job market for Python programmers is smaller than that for other programmers, but we're not trying to get a job as Python programmers."
   ]
  },
  {
   "cell_type": "markdown",
   "metadata": {},
   "source": [
    "Should also note that the fact that Python is *intrepreted*, as opposed to *compiled*, is a nice advantage in many use cases and especially in data analysis.\n",
    "\n",
    "Being intrepreted means that the Python code is translated into machine code \"on the fly\", as the code is needed. In a compiled language, the human-readable code must first be translated into binary and then ran, which can mean that it takes longer to develop code. \n",
    "\n",
    "You don't want to have to wait to compile your code unless there is a good reason to!"
   ]
  },
  {
   "cell_type": "markdown",
   "metadata": {},
   "source": [
    "# Variables and Object Types"
   ]
  },
  {
   "cell_type": "markdown",
   "metadata": {},
   "source": [
    "A variable is among the most fundamental of all programming concepts - in some sense everything is a variable!\n",
    "\n",
    "You can think of a variable as a \"place to put\" something that you need.\n",
    "\n",
    "In Python, variables are created as you need them, all you have to do is define the variable. Our first variable will be a simple integer, and we will call it `my_integer`:"
   ]
  },
  {
   "cell_type": "code",
   "execution_count": 1,
   "metadata": {},
   "outputs": [
    {
     "data": {
      "text/plain": [
       "42"
      ]
     },
     "execution_count": 1,
     "metadata": {},
     "output_type": "execute_result"
    }
   ],
   "source": [
    "my_integer = 42\n",
    "my_integer"
   ]
  },
  {
   "cell_type": "markdown",
   "metadata": {},
   "source": [
    "One of the many beauties of Python is that there is a standard for what your code should generally look like: the [PEP 8 Style Guide][1].\n",
    "\n",
    "The PEP 8 style guide makes code easier for others (and yourself, later) to understand when you need to fix bugs or make enhancements.\n",
    "\n",
    "With great freedom comes great resposibility - if only you can understand what is happening in your code, then your code really isn't very valuable. \n",
    "\n",
    "In the [PEP 8 standard][2]:\n",
    "\n",
    ">[Variable] names should be lowercase, with words separated by underscores as necessary to improve readability.\n",
    "\n",
    "Writing code that can be understood by other people is one of the most important parts of writing code...so we start thinking *now* about style and readability in variable names.\n",
    "\n",
    "Three things you should know in order start, from Day 1, writing beautiful code that other Python progammers understand easily:"
   ]
  },
  {
   "cell_type": "markdown",
   "metadata": {},
   "source": [
    "     \n",
    "* **Code is always read more often than it is written**\n",
    "    * If nobody else can understand your code, it isn't good code.\n",
    "    * Assume that tomorrow you'll forget how your code works...\n",
    "    * ...because you will :)..\n",
    "    * ...and if you won't remember tomorrow, how will anyone else figure out your code?\n",
    "* **Variable names are lowercase with \"\\_\" where readability is better.**\n",
    "    * e.g. `my_variable` or `variable`, or maybe even `myvariable`.\n",
    "* **Use desriptive names**\n",
    "    * There is no legimate reason to do otherwise...\n",
    "    * ...e.g. why use `p` when you could use `net_sales_price`?\n",
    "    * Short variable names might save some typing time now..\n",
    "    * ...but will almost certainly cost you more time later. \n",
    "* **Python lines should be less than 80 characters.**\n",
    "     * Some may disagree, but is in the standard and 80 characters is more readable."
   ]
  },
  {
   "cell_type": "markdown",
   "metadata": {},
   "source": [
    "Okay, now for types. There are many different object types in Python, at this point we'll narrow it down to the most fundamental: \n",
    "\n",
    "* `int` - an integer such as 42, 0 or 1. \n",
    "* `float` - a number such as `1.214`, `0.9879` or `1e987` in scientific notation.\n",
    "* `str` - a string, think of a string as just \"text\".\n",
    "* `bool` - either `True` or `False` (strictly).\n",
    "\n",
    "If you want to find the type of a variable, you can use a function.\n",
    "\n",
    "We'll talk more about functions, but basically functions work like this: \n",
    "\n",
    "[1]:https://www.python.org/dev/peps/pep-0008/\n",
    "[2]:https://www.python.org/dev/peps/pep-0008/#function-and-variable-names"
   ]
  },
  {
   "cell_type": "code",
   "execution_count": 27,
   "metadata": {},
   "outputs": [],
   "source": [
    "def my_own_function(an_argument, another_argument):\n",
    "    \"\"\"Takes arguments, does something, returns value\n",
    "    \n",
    "    Functions don't necessarily need arguments, and don't\n",
    "    necessarily return anything. \n",
    "\n",
    "    \"\"\"\n",
    "    # ... here some Python code does something..\n",
    "    \n",
    "    return # Something. "
   ]
  },
  {
   "cell_type": "markdown",
   "metadata": {},
   "source": [
    "Python has lots of standard functions that are loaded automatically. We can use the `type` function to see the type of a given object:"
   ]
  },
  {
   "cell_type": "code",
   "execution_count": 10,
   "metadata": {},
   "outputs": [],
   "source": [
    "# By the way, this line is a comment...\n",
    "# ...comments are ignored by the intrepreter\n",
    "# and are used to leave notes in code or to\n",
    "# \"comment out\" certain lines of code."
   ]
  },
  {
   "cell_type": "code",
   "execution_count": 12,
   "metadata": {},
   "outputs": [
    {
     "data": {
      "text/plain": [
       "int"
      ]
     },
     "execution_count": 12,
     "metadata": {},
     "output_type": "execute_result"
    }
   ],
   "source": [
    "# Check the type of my_integer.\n",
    "type(my_integer)"
   ]
  },
  {
   "cell_type": "code",
   "execution_count": 15,
   "metadata": {},
   "outputs": [
    {
     "data": {
      "text/plain": [
       "float"
      ]
     },
     "execution_count": 15,
     "metadata": {},
     "output_type": "execute_result"
    }
   ],
   "source": [
    "# Check the type of a float.\n",
    "type(10.2379)"
   ]
  },
  {
   "cell_type": "code",
   "execution_count": 15,
   "metadata": {},
   "outputs": [
    {
     "data": {
      "text/plain": [
       "str"
      ]
     },
     "execution_count": 15,
     "metadata": {},
     "output_type": "execute_result"
    }
   ],
   "source": [
    "# Check the type of a string.\n",
    "type('this is a string')"
   ]
  },
  {
   "cell_type": "markdown",
   "metadata": {},
   "source": [
    "The `print` function is useful:"
   ]
  },
  {
   "cell_type": "code",
   "execution_count": 31,
   "metadata": {},
   "outputs": [
    {
     "name": "stdout",
     "output_type": "stream",
     "text": [
      "Here is a True bool: <class 'bool'>\n"
     ]
    }
   ],
   "source": [
    "# Check the type of a bool.\n",
    "print('Here is a True bool:', type(True))"
   ]
  },
  {
   "cell_type": "code",
   "execution_count": 33,
   "metadata": {},
   "outputs": [
    {
     "name": "stdout",
     "output_type": "stream",
     "text": [
      "Here is a False bool: <class 'bool'>\n"
     ]
    }
   ],
   "source": [
    "# Check the type of a bool.\n",
    "print('Here is a False bool:', type(False))"
   ]
  },
  {
   "cell_type": "markdown",
   "metadata": {},
   "source": [
    "# Logical and Math Operators\n",
    "\n",
    "Now we have these items in our Python knowledge: \n",
    "\n",
    "* A basic concept of a variable. \n",
    "* Primary object types and general idea of typing in Python. \n",
    "* Knowledge that something called a \"style guide\" exists and is important.\n",
    "* A basic concept of a function. \n",
    "* We know about comments.\n",
    "\n",
    "Let's add operators to our Python knowledge. \n",
    "\n",
    "Mathematical operators are just that, mathematical operators. \n",
    "\n",
    "Here are the basic ones, and they pretty much do what you think they would do: \n",
    "\n",
    "* `+` - addition\n",
    "* `-` - subtraction\n",
    "* `*` - multiplication \n",
    "* `/` - division  \n",
    "* `**` - exponentiation \n",
    "* `>=` - greater than or equal to \n",
    "* `<=` - less than or equal to \n",
    "* `>` - greater than\n",
    "* `<` - less than"
   ]
  },
  {
   "cell_type": "code",
   "execution_count": 7,
   "metadata": {},
   "outputs": [],
   "source": [
    "# In certain cases, short variable names make sense...\n",
    "# ... especially when the variable is only used close to the place that it was written. \n",
    "x = 4\n",
    "y = 3"
   ]
  },
  {
   "cell_type": "code",
   "execution_count": 8,
   "metadata": {},
   "outputs": [
    {
     "data": {
      "text/plain": [
       "7"
      ]
     },
     "execution_count": 8,
     "metadata": {},
     "output_type": "execute_result"
    }
   ],
   "source": [
    "x + y"
   ]
  },
  {
   "cell_type": "code",
   "execution_count": 9,
   "metadata": {},
   "outputs": [
    {
     "data": {
      "text/plain": [
       "-1"
      ]
     },
     "execution_count": 9,
     "metadata": {},
     "output_type": "execute_result"
    }
   ],
   "source": [
    "y - x"
   ]
  },
  {
   "cell_type": "code",
   "execution_count": 6,
   "metadata": {},
   "outputs": [
    {
     "data": {
      "text/plain": [
       "12"
      ]
     },
     "execution_count": 6,
     "metadata": {},
     "output_type": "execute_result"
    }
   ],
   "source": [
    "x * y"
   ]
  },
  {
   "cell_type": "code",
   "execution_count": 11,
   "metadata": {},
   "outputs": [
    {
     "data": {
      "text/plain": [
       "1.3333333333333333"
      ]
     },
     "execution_count": 11,
     "metadata": {},
     "output_type": "execute_result"
    }
   ],
   "source": [
    "x / y"
   ]
  },
  {
   "cell_type": "code",
   "execution_count": 13,
   "metadata": {},
   "outputs": [
    {
     "data": {
      "text/plain": [
       "64"
      ]
     },
     "execution_count": 13,
     "metadata": {},
     "output_type": "execute_result"
    }
   ],
   "source": [
    "x**y"
   ]
  },
  {
   "cell_type": "markdown",
   "metadata": {},
   "source": [
    "There are also logical operators - which evaluate whether or not a conditon is `True`. A basic list that you should know: \n",
    "\n",
    "* `==` - equivalence, i.e. are two items equal?\n",
    "* `!=` - not equivalence, i.e. are two items not equal? \n",
    "* `and` - are both of the items `True`?\n",
    "* `or` - are either of the items `True`?"
   ]
  },
  {
   "cell_type": "markdown",
   "metadata": {},
   "source": [
    "We can use bools to test the logical operators:"
   ]
  },
  {
   "cell_type": "code",
   "execution_count": 21,
   "metadata": {},
   "outputs": [
    {
     "data": {
      "text/plain": [
       "True"
      ]
     },
     "execution_count": 21,
     "metadata": {},
     "output_type": "execute_result"
    }
   ],
   "source": [
    "True == True"
   ]
  },
  {
   "cell_type": "code",
   "execution_count": 22,
   "metadata": {},
   "outputs": [
    {
     "data": {
      "text/plain": [
       "True"
      ]
     },
     "execution_count": 22,
     "metadata": {},
     "output_type": "execute_result"
    }
   ],
   "source": [
    "True != False"
   ]
  },
  {
   "cell_type": "code",
   "execution_count": 23,
   "metadata": {},
   "outputs": [
    {
     "data": {
      "text/plain": [
       "False"
      ]
     },
     "execution_count": 23,
     "metadata": {},
     "output_type": "execute_result"
    }
   ],
   "source": [
    "False != False"
   ]
  },
  {
   "cell_type": "code",
   "execution_count": 24,
   "metadata": {},
   "outputs": [
    {
     "data": {
      "text/plain": [
       "True"
      ]
     },
     "execution_count": 24,
     "metadata": {},
     "output_type": "execute_result"
    }
   ],
   "source": [
    "True and True"
   ]
  },
  {
   "cell_type": "code",
   "execution_count": 25,
   "metadata": {},
   "outputs": [
    {
     "data": {
      "text/plain": [
       "False"
      ]
     },
     "execution_count": 25,
     "metadata": {},
     "output_type": "execute_result"
    }
   ],
   "source": [
    "True and False"
   ]
  },
  {
   "cell_type": "code",
   "execution_count": 35,
   "metadata": {},
   "outputs": [
    {
     "name": "stdout",
     "output_type": "stream",
     "text": [
      "4 3\n"
     ]
    }
   ],
   "source": [
    "# Recall our x and y variables. \n",
    "print(x, y)"
   ]
  },
  {
   "cell_type": "code",
   "execution_count": 36,
   "metadata": {},
   "outputs": [
    {
     "data": {
      "text/plain": [
       "False"
      ]
     },
     "execution_count": 36,
     "metadata": {},
     "output_type": "execute_result"
    }
   ],
   "source": [
    "x == y"
   ]
  },
  {
   "cell_type": "code",
   "execution_count": 38,
   "metadata": {},
   "outputs": [
    {
     "data": {
      "text/plain": [
       "True"
      ]
     },
     "execution_count": 38,
     "metadata": {},
     "output_type": "execute_result"
    }
   ],
   "source": [
    "x != y"
   ]
  },
  {
   "cell_type": "markdown",
   "metadata": {},
   "source": [
    "Usually you'll be testing some condition when using logical operators:"
   ]
  },
  {
   "cell_type": "code",
   "execution_count": 40,
   "metadata": {},
   "outputs": [
    {
     "data": {
      "text/plain": [
       "True"
      ]
     },
     "execution_count": 40,
     "metadata": {},
     "output_type": "execute_result"
    }
   ],
   "source": [
    "x > 1 and y > 1"
   ]
  },
  {
   "cell_type": "code",
   "execution_count": 42,
   "metadata": {},
   "outputs": [
    {
     "data": {
      "text/plain": [
       "True"
      ]
     },
     "execution_count": 42,
     "metadata": {},
     "output_type": "execute_result"
    }
   ],
   "source": [
    "1 <= x <= 10"
   ]
  },
  {
   "cell_type": "markdown",
   "metadata": {},
   "source": [
    "# String Formatting and Other String Manipulations \n",
    "\n",
    "String formatting is easier to show than to explain, but basically it means bringing in some strings into other strings. \n",
    "\n",
    "We can introduce the `%s` and `%` operators, which works like this:"
   ]
  },
  {
   "cell_type": "code",
   "execution_count": 46,
   "metadata": {},
   "outputs": [
    {
     "data": {
      "text/plain": [
       "'Hello %s!'"
      ]
     },
     "execution_count": 46,
     "metadata": {},
     "output_type": "execute_result"
    }
   ],
   "source": [
    "# Build a string with a place to put another string:\n",
    "my_string = 'Hello %s!'\n",
    "my_string"
   ]
  },
  {
   "cell_type": "code",
   "execution_count": 48,
   "metadata": {},
   "outputs": [
    {
     "data": {
      "text/plain": [
       "'Hello World!'"
      ]
     },
     "execution_count": 48,
     "metadata": {},
     "output_type": "execute_result"
    }
   ],
   "source": [
    "# Then we can bring in other strings using the `%` operator:\n",
    "my_string % 'World'"
   ]
  },
  {
   "cell_type": "markdown",
   "metadata": {},
   "source": [
    "# Exercise "
   ]
  },
  {
   "cell_type": "markdown",
   "metadata": {},
   "source": []
  },
  {
   "cell_type": "code",
   "execution_count": null,
   "metadata": {},
   "outputs": [],
   "source": []
  },
  {
   "cell_type": "code",
   "execution_count": null,
   "metadata": {},
   "outputs": [],
   "source": []
  },
  {
   "cell_type": "code",
   "execution_count": null,
   "metadata": {},
   "outputs": [],
   "source": []
  },
  {
   "cell_type": "code",
   "execution_count": null,
   "metadata": {},
   "outputs": [],
   "source": []
  }
 ],
 "metadata": {
  "kernelspec": {
   "display_name": "Python 3",
   "language": "python",
   "name": "python3"
  },
  "language_info": {
   "codemirror_mode": {
    "name": "ipython",
    "version": 3
   },
   "file_extension": ".py",
   "mimetype": "text/x-python",
   "name": "python",
   "nbconvert_exporter": "python",
   "pygments_lexer": "ipython3",
   "version": "3.6.3"
  },
  "toc": {
   "nav_menu": {},
   "number_sections": true,
   "sideBar": true,
   "skip_h1_title": false,
   "toc_cell": false,
   "toc_position": {},
   "toc_section_display": true,
   "toc_window_display": false
  }
 },
 "nbformat": 4,
 "nbformat_minor": 2
}
