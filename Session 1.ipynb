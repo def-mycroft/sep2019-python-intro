{
 "cells": [
  {
   "cell_type": "markdown",
   "metadata": {},
   "source": [
    "# Course Introduction\n",
    "\n",
    "The overarching objective of this course is to provide a fast and hands on introduction to programming in Python. \n",
    "\n",
    "If this course is successful, participants will be able to:\n",
    "\n",
    ">Accomplish basic, practical tasks such as manipulating spreadsheets and interacting with APIs. Also, participants will be able to employ self-directed learning to accomplish more complicated tasks where Python is a good solution."
   ]
  },
  {
   "cell_type": "markdown",
   "metadata": {},
   "source": [
    "In order to achieve the desired outcome, participants will need to learn the following topics: \n",
    "\n",
    "* Elementary programming concepts\n",
    "    * variables, basic data types, loops, conditionals.\n",
    "    * functions, string formatting, logical and math operators.\n",
    "* Python's data structures and list/dict comprehension.\n",
    "    * lists, tuples, dicts, comprehension.\n",
    "* Working with modules in Python. \n",
    "* Installing the Anaconda distribution of Python and installing modules.\n",
    "* Using Python from the command line.\n",
    "* Fundamentals of Python `pandas`."
   ]
  },
  {
   "cell_type": "markdown",
   "metadata": {},
   "source": [
    "# How to think about Python\n",
    "\n",
    "Programming is often viewed as a mysterious \"dark art\", an art that only geniuses or PhD computer scientists are capable of doing.\n",
    "\n",
    "True expertise is irreplaceable and it takes many years of formal training and experience to really be an expert programmer or computer scientist...\n",
    "\n",
    "...but:\n",
    "1. All programmers were once neophytes, so we're starting from the same point as anyone else.\n",
    "2. There is a lot of value to be had somewhere between \"neophyte\" and \"expert\".\n",
    "\n",
    "So, we're definitely not going to get jobs as software engineers as a result of this course alone, but I'm willing to bet that A) \"doing useful things\" with Python within reach and B) this course will provide valuable experience for further learning."
   ]
  },
  {
   "cell_type": "markdown",
   "metadata": {},
   "source": [
    "# Why Python? \n",
    "\n",
    "I think we're sold on the general idea that writing code is valuable - if we're relegated to only using software tools that someone else has built, then we're reliant upon the developers of the software.\n",
    "\n",
    "If software \"A\" doesn't have feature \"X\", the only thing we can do is hope that someone else has built our feature in another off-the-shelf software. If we can write code, there is a much high chance that we'll be able to accomplish exactly what we need to accomplish. \n",
    "\n"
   ]
  },
  {
   "cell_type": "markdown",
   "metadata": {},
   "source": [
    "But why specifically Python? There are too many different programming languages out there to list, why not learn C, C#, C++, R, Scala, Ruby, Java, Javascript or Julia? \n",
    "\n",
    "Here is what I view as the case for Python specifically: \n",
    "\n",
    ">**Programming languages highly commoditized**. They're all fundamentally the same thing: variables, loops, conditionals and data containers. Once you learn one language, the others come more easily. \n",
    "\n",
    ">**Python is a good first language, easier to learn**. It is relatively simple (e.g. inferred typing), and Python is very, very well organized and well documented.\n",
    "\n",
    ">**Python has an engaged and supportive community**. Python has been one of the most popular programming languages for several years now, as measured by surveys and other analysis. There are 1.2M+ Python threads on stackoverflow. There are pages and pages of results for a Google query \"learn python\". A lot of programmers really love Python and want to spread and support the language. \n",
    "\n",
    ">**Python has a great depth of add-ons, esp scientific/statistical**. There are too many add-ons to list. With Python you have `numpy`, `scipy`, `pandas`, `sklearn` for data analysis and modeling. APIs are increasingly implemented in Python, and oftentimes someone in the open-source community has written a Python wrapper around the API that you want to use. \n",
    "\n",
    ">**The supposed downsides of Python don't matter very much for our purposes**. Python is objectively slower than the C family or Javascript, but development speed is usually more important than execution speed, and in many cases Python is wrapped around faster code like C (e.g. in `pandas`) or Fortran (e.g. in `numpy`). The job market for Python programmers is smaller than that for other programmers, but we're not trying to get a job as Python programmers."
   ]
  },
  {
   "cell_type": "code",
   "execution_count": null,
   "metadata": {},
   "outputs": [],
   "source": []
  },
  {
   "cell_type": "code",
   "execution_count": null,
   "metadata": {},
   "outputs": [],
   "source": []
  },
  {
   "cell_type": "code",
   "execution_count": null,
   "metadata": {},
   "outputs": [],
   "source": []
  },
  {
   "cell_type": "code",
   "execution_count": null,
   "metadata": {},
   "outputs": [],
   "source": []
  },
  {
   "cell_type": "code",
   "execution_count": null,
   "metadata": {},
   "outputs": [],
   "source": []
  },
  {
   "cell_type": "code",
   "execution_count": null,
   "metadata": {},
   "outputs": [],
   "source": []
  },
  {
   "cell_type": "code",
   "execution_count": null,
   "metadata": {},
   "outputs": [],
   "source": []
  },
  {
   "cell_type": "code",
   "execution_count": null,
   "metadata": {},
   "outputs": [],
   "source": []
  },
  {
   "cell_type": "code",
   "execution_count": null,
   "metadata": {},
   "outputs": [],
   "source": []
  },
  {
   "cell_type": "code",
   "execution_count": null,
   "metadata": {},
   "outputs": [],
   "source": []
  }
 ],
 "metadata": {
  "kernelspec": {
   "display_name": "Python 3",
   "language": "python",
   "name": "python3"
  },
  "language_info": {
   "codemirror_mode": {
    "name": "ipython",
    "version": 3
   },
   "file_extension": ".py",
   "mimetype": "text/x-python",
   "name": "python",
   "nbconvert_exporter": "python",
   "pygments_lexer": "ipython3",
   "version": "3.7.1"
  },
  "toc": {
   "base_numbering": 1,
   "nav_menu": {},
   "number_sections": true,
   "sideBar": true,
   "skip_h1_title": false,
   "title_cell": "Table of Contents",
   "title_sidebar": "Contents",
   "toc_cell": false,
   "toc_position": {},
   "toc_section_display": true,
   "toc_window_display": false
  }
 },
 "nbformat": 4,
 "nbformat_minor": 2
}
